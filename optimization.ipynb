{
 "metadata": {
  "language_info": {
   "codemirror_mode": {
    "name": "ipython",
    "version": 3
   },
   "file_extension": ".py",
   "mimetype": "text/x-python",
   "name": "python",
   "nbconvert_exporter": "python",
   "pygments_lexer": "ipython3",
   "version": "3.8.3-final"
  },
  "orig_nbformat": 2,
  "kernelspec": {
   "name": "python3",
   "display_name": "Python 3.8.3 64-bit",
   "metadata": {
    "interpreter": {
     "hash": "011a96725d900edd21c68878442f923b2a2af0a56af0a80b95bb19dec4c636fc"
    }
   }
  }
 },
 "nbformat": 4,
 "nbformat_minor": 2,
 "cells": [
  {
   "cell_type": "code",
   "execution_count": 455,
   "metadata": {},
   "outputs": [],
   "source": [
    "from scipy.optimize import minimize"
   ]
  },
  {
   "cell_type": "code",
   "execution_count": 484,
   "metadata": {},
   "outputs": [
    {
     "output_type": "stream",
     "name": "stdout",
     "text": [
      "Result  :2460.0\nWrenches:12000.0\nPliers  :9000.0\n\n\n     fun: -2459.9999999643615\n     jac: array([-0.13000488, -0.09997559])\n message: 'Optimization terminated successfully.'\n    nfev: 64\n     nit: 16\n    njev: 16\n  status: 0\n success: True\n       x: array([11999.99999983,  8999.99999987])\n"
     ]
    }
   ],
   "source": [
    "# Optimization Function\n",
    "def profit(x):\n",
    "    return (x[0]*0.13 + x[1]*0.1) * -1  # multiply by -1 so that the minimize function will actually maximize the profit.\n",
    "\n",
    "\n",
    "# Constraints\n",
    "cons = (\n",
    "         {'type':'ineq','fun':lambda x:15000 - x[0]}                    # number of wrenches <= 15.000\n",
    "        ,{'type':'ineq','fun':lambda x:16000 - x[1]}                    # number of pliers   <= 16.000\n",
    "        ,{'type':'ineq','fun':lambda x:27000 - x[0]*1.5   - x[1]*1}     # steel <= 27.000\n",
    "        ,{'type':'ineq','fun':lambda x:21000 - x[0]*1     - x[1]*1}     # manufacturing <= 21.000\n",
    "        ,{'type':'ineq','fun':lambda x: 9000 - x[0]*0.3   - x[1]*0.5}   # assembly <= 9.000\n",
    "       )\n",
    "\n",
    "# bounds define the min and max for each Variable\n",
    "bounds = ((0,20000),(0,20000))\n",
    "\n",
    "# bounds define initial guess for each variable\n",
    "init_gess =[1000,1000]\n",
    "\n",
    "# optmization function result\n",
    "opt_result = minimize(profit,init_gess,method='SLSQP',constraints=cons,bounds=bounds)\n",
    "\n",
    "# print results\n",
    "print(f\"Result  :{round(-opt_result['fun'],0)}\")\n",
    "print(f\"Wrenches:{round(opt_result['x'][0],0)}\")\n",
    "print(f\"Pliers  :{round(opt_result['x'][1],0)}\")\n",
    "print('\\n')\n",
    "print(opt_result)"
   ]
  },
  {
   "cell_type": "code",
   "execution_count": null,
   "metadata": {},
   "outputs": [],
   "source": []
  }
 ]
}
